{
 "cells": [
  {
   "cell_type": "markdown",
   "id": "5f176564",
   "metadata": {},
   "source": [
    "# Convert AB magnitudes data to Flux data"
   ]
  },
  {
   "cell_type": "code",
   "execution_count": 3,
   "id": "323cd222",
   "metadata": {},
   "outputs": [],
   "source": [
    "import numpy as np\n",
    "import pandas as pd\n",
    "import matplotlib.pyplot as plt\n",
    "from matplotlib.ticker import FuncFormatter\n",
    "from astropy import units as u\n",
    "\n",
    "data2 = pd.read_csv('data/GRB250916A (3).csv')\n",
    "    \n",
    "x=data2[\"Time - t0 (hours)\"]*3600\n",
    "y1=3.631e6*(10**(-0.4*data2[\"Magnitude\"]))\n",
    "y1err=y1-3.631e6*(10**(-0.4*(data2[\"Magnitude\"]+data2[\"Error\"])))\n",
    "\n",
    "filt_freqs={'i':393170436721311.5, 'z':328215960148894.2,\n",
    "    'VT_B':605000000000000.0, 'VT_R':381000000000000.0, 'r':481130569731985.2, 'J':240000000000000.0, \n",
    "    'g':628495719077568.1,'R':468671768303359.2, 'L':86898551000000,\n",
    "    'SAO-R':45562310000000, 'u': 865201898990000}\n",
    "freqs=[filt_freqs[freq] for freq  in data2['Filter ']]\n",
    "df = pd.DataFrame({\n",
    "    'Times': list(x),\n",
    "    'Fluxes': list(y1),\n",
    "    'FluxErrs': list(y1err),\n",
    "    'Filt': list(data2['Filter ']),\n",
    "    'Freqs': list(freqs),\n",
    "})\n",
    "df.to_csv('data/GRB250916A_opt.csv', index=False)\n",
    "#print(y1)\n",
    "\n",
    "#print(y1err)"
   ]
  }
 ],
 "metadata": {
  "kernelspec": {
   "display_name": "base",
   "language": "python",
   "name": "python3"
  },
  "language_info": {
   "codemirror_mode": {
    "name": "ipython",
    "version": 3
   },
   "file_extension": ".py",
   "mimetype": "text/x-python",
   "name": "python",
   "nbconvert_exporter": "python",
   "pygments_lexer": "ipython3",
   "version": "3.12.2"
  }
 },
 "nbformat": 4,
 "nbformat_minor": 5
}
